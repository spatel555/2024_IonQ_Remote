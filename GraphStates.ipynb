{
 "cells": [
  {
   "cell_type": "code",
   "execution_count": 29,
   "id": "84002f9c",
   "metadata": {},
   "outputs": [],
   "source": [
    "import numpy as np\n",
    "import qiskit\n",
    "from qiskit_aer import AerSimulator\n",
    "simulator = AerSimulator()"
   ]
  },
  {
   "cell_type": "code",
   "execution_count": 76,
   "id": "e9524f96-d9ea-492c-9b45-c1b5cf256f8f",
   "metadata": {},
   "outputs": [],
   "source": [
    "numShots = 10000 "
   ]
  },
  {
   "cell_type": "code",
   "execution_count": 78,
   "id": "d6dacdc6-9ca5-4273-b593-e1291071d4bf",
   "metadata": {},
   "outputs": [],
   "source": [
    "def makeCirc():\n",
    "    n = 3\n",
    "    # edges = [[0,1],[1,2],[2,3]]\n",
    "    edges = [[0,1],[1,2]]\n",
    "    # edges = [[0,1],[2,3]]\n",
    "    circInner = qiskit.QuantumCircuit(n)\n",
    "    for i in range(n):\n",
    "        circInner.h(i)\n",
    "    for edge in edges:\n",
    "        circInner.cz(edge[0],edge[1])\n",
    "        # circInner.cz(edge[0],edge[1])\n",
    "    # circInner.draw(\"mpl\",style=\"iqp\")\n",
    "    return circInner"
   ]
  },
  {
   "cell_type": "code",
   "execution_count": 84,
   "id": "2ef9808e-d574-4f9e-b11b-744d4c0171b3",
   "metadata": {},
   "outputs": [
    {
     "name": "stdout",
     "output_type": "stream",
     "text": [
      "{'111': 2439, '001': 2518, '110': 2537, '000': 2506}\n"
     ]
    }
   ],
   "source": [
    "circUs = makeCirc()\n",
    "# circUs.cx(0,1)\n",
    "# circUs.cx(0,2)\n",
    "# circUs.cx(0,3)\n",
    "circUs.h(2)\n",
    "# circUs.h(1)\n",
    "# circUs.h(2)\n",
    "# circUs.h(3)\n",
    "circUs.measure_all()\n",
    "circUs = qiskit.transpile(circUs,simulator)\n",
    "result = simulator.run(circUs,shots=numShots).result()\n",
    "counts = result.get_counts(0)\n",
    "print(counts)"
   ]
  },
  {
   "cell_type": "code",
   "execution_count": 85,
   "id": "765da345-5189-425d-a11a-35f1b99af45b",
   "metadata": {},
   "outputs": [],
   "source": [
    "wedgechnode0 = {'011': 2587, '000': 2447, '111': 2466, '100': 2500}\n",
    "chnode1 = {'011': 2529, '110': 2529, '101': 2453, '000': 2489}\n",
    "chnode2 = {'111': 2439, '001': 2518, '110': 2537, '000': 2506}"
   ]
  },
  {
   "cell_type": "code",
   "execution_count": 81,
   "id": "dbb7e678-5c51-4f86-bc19-c7f6336645c4",
   "metadata": {},
   "outputs": [
    {
     "name": "stdout",
     "output_type": "stream",
     "text": [
      "{'011': 2587, '000': 2447, '111': 2466, '100': 2500}\n"
     ]
    }
   ],
   "source": [
    "circUs = makeCirc()\n",
    "# circUs.cx(0,1)\n",
    "# circUs.cx(0,2)\n",
    "# circUs.cx(0,3)\n",
    "circUs.h(0)\n",
    "# circUs.h(1)\n",
    "# circUs.h(2)\n",
    "# circUs.h(3)\n",
    "circUs.measure_all()\n",
    "circUs = qiskit.transpile(circUs,simulator)\n",
    "result = simulator.run(circUs,shots=numShots).result()\n",
    "counts = result.get_counts(0)\n",
    "print(counts)"
   ]
  },
  {
   "cell_type": "code",
   "execution_count": 82,
   "id": "59b4ce8d-137e-4c3f-97ea-feb54ffdd2bf",
   "metadata": {},
   "outputs": [
    {
     "data": {
      "image/png": "[encoded data removed]",
      "text/plain": [
       "<Figure size 747.609x367.889 with 1 Axes>"
      ]
     },
     "execution_count": 82,
     "metadata": {},
     "output_type": "execute_result"
    }
   ],
   "source": [
    "circUs.draw(\"mpl\",style=\"iqp\")"
   ]
  },
  {
   "cell_type": "code",
   "execution_count": 51,
   "id": "ab8d8958-97d3-470c-a905-4a5428d613b4",
   "metadata": {},
   "outputs": [
    {
     "ename": "NameError",
     "evalue": "name 'circ' is not defined",
     "output_type": "error",
     "traceback": [
      "\u001b[0;31m---------------------------------------------------------------------------\u001b[0m",
      "\u001b[0;31mNameError\u001b[0m                                 Traceback (most recent call last)",
      "Cell \u001b[0;32mIn[51], line 8\u001b[0m\n\u001b[1;32m      1\u001b[0m \u001b[38;5;66;03m# n = 8\u001b[39;00m\n\u001b[1;32m      2\u001b[0m \u001b[38;5;66;03m# edges = [[0,1],[0,2],[1,2],[0,3],[3,4],[4,5],[3,5],[6,7]]\u001b[39;00m\n\u001b[1;32m      3\u001b[0m \u001b[38;5;66;03m# circ = qiskit.QuantumCircuit(n)\u001b[39;00m\n\u001b[0;32m   (...)\u001b[0m\n\u001b[1;32m      6\u001b[0m \u001b[38;5;66;03m# for edge in edges:\u001b[39;00m\n\u001b[1;32m      7\u001b[0m \u001b[38;5;66;03m#     circ.cz(edge[0],edge[1])\u001b[39;00m\n\u001b[0;32m----> 8\u001b[0m \u001b[43mcirc\u001b[49m\u001b[38;5;241m.\u001b[39mdraw(\u001b[38;5;124m\"\u001b[39m\u001b[38;5;124mmpl\u001b[39m\u001b[38;5;124m\"\u001b[39m,style\u001b[38;5;241m=\u001b[39m\u001b[38;5;124m\"\u001b[39m\u001b[38;5;124miqp\u001b[39m\u001b[38;5;124m\"\u001b[39m)\n",
      "\u001b[0;31mNameError\u001b[0m: name 'circ' is not defined"
     ]
    }
   ],
   "source": [
    "# n = 8\n",
    "# edges = [[0,1],[0,2],[1,2],[0,3],[3,4],[4,5],[3,5],[6,7]]\n",
    "# circ = qiskit.QuantumCircuit(n)\n",
    "# for i in range(n):\n",
    "#     circ.h(i)\n",
    "# for edge in edges:\n",
    "#     circ.cz(edge[0],edge[1])\n",
    "circ.draw(\"mpl\",style=\"iqp\")"
   ]
  },
  {
   "cell_type": "code",
   "execution_count": 176,
   "id": "d27c7906-c241-4dbe-b332-cec941868bf5",
   "metadata": {},
   "outputs": [
    {
     "name": "stdout",
     "output_type": "stream",
     "text": [
      "output states with nonzero probability is at least:  128\n",
      "output states with nonzero probability is at least:  128\n",
      "output states with nonzero probability is at least:  128\n",
      "output states with nonzero probability is at least:  128\n",
      "output states with nonzero probability is at least:  128\n",
      "output states with nonzero probability is at least:  128\n",
      "output states with nonzero probability is at least:  128\n",
      "output states with nonzero probability is at least:  128\n"
     ]
    }
   ],
   "source": [
    "# THIS TELLS US THAT THERE IS A TEST FOR GRAPH-STATE:\n",
    "#  if applying a hadamard to a qbit, get 2^n / 2 states\n",
    "\n",
    "numShots = 1024*4\n",
    "\n",
    "for i in range(n):\n",
    "    circ = qiskit.QuantumCircuit(n)\n",
    "    for i in range(n):\n",
    "        circ.h(i)\n",
    "    for edge in edges:\n",
    "        circ.cz(edge[0],edge[1])\n",
    "    circ.h(i)\n",
    "    circ.measure_all()\n",
    "    circ = qiskit.transpile(circ,simulator)\n",
    "    result = simulator.run(circ,shots=numShots).result()\n",
    "    counts = result.get_counts(0)\n",
    "    print(\"output states with nonzero probability is at least: \", len(counts))\n",
    "# qiskit.visualization.plot_histogram(counts_ideal)"
   ]
  },
  {
   "cell_type": "code",
   "execution_count": 177,
   "id": "f026b2a9-6d5b-4468-9f6b-151632be3b86",
   "metadata": {},
   "outputs": [
    {
     "name": "stdout",
     "output_type": "stream",
     "text": [
      "[256] [8]\n"
     ]
    }
   ],
   "source": [
    "# TESTING if we can get the existence of a single edge\n",
    "#  if edge, hadamard the two nodes gives 2^n states\n",
    "testEdges = edges\n",
    "supportSizes = []\n",
    "for testEdge in testEdges:\n",
    "    circ = qiskit.QuantumCircuit(n)\n",
    "    for i in range(n):\n",
    "        circ.h(i)\n",
    "    for edge in edges:\n",
    "        circ.cz(edge[0],edge[1])\n",
    "    circ.h(testEdge[0])\n",
    "    circ.h(testEdge[1])\n",
    "    circ.measure_all()\n",
    "    circ = qiskit.transpile(circ,simulator)\n",
    "    result = simulator.run(circ,shots=numShots).result()\n",
    "    counts = result.get_counts()\n",
    "    supportSizes.append(len(counts))\n",
    "    # print(len(counts))\n",
    "unique, counts = np.unique(supportSizes, return_counts=True)\n",
    "print(unique, counts)"
   ]
  },
  {
   "cell_type": "code",
   "execution_count": 178,
   "id": "733bb5e3-1f95-469a-8b18-7aa991e9ee0c",
   "metadata": {},
   "outputs": [
    {
     "data": {
      "text/plain": [
       "array([20,  0,  0,  0,  0,  0,  0,  0,  0,  8])"
      ]
     },
     "execution_count": 178,
     "metadata": {},
     "output_type": "execute_result"
    }
   ],
   "source": [
    "#  if not an edge, hadamard the two nodes gives 2^n / 4 states\n",
    "allDyads = [[j,i] for i in range(n) for j in range(i)]\n",
    "supportSizes = []\n",
    "for testEdge in allDyads:\n",
    "    circ = qiskit.QuantumCircuit(n)\n",
    "    for i in range(n):\n",
    "        circ.h(i)\n",
    "    for edge in edges:\n",
    "        circ.cz(edge[0],edge[1])\n",
    "    circ.h(testEdge[0])\n",
    "    circ.h(testEdge[1])\n",
    "    circ.measure_all()\n",
    "    circ = qiskit.transpile(circ,simulator)\n",
    "    result = simulator.run(circ,shots=numShots).result()\n",
    "    counts = result.get_counts()\n",
    "    supportSizes.append(len(counts))\n",
    "    # print(len(counts))\n",
    "np.histogram(supportSizes)[0]"
   ]
  },
  {
   "cell_type": "code",
   "execution_count": 179,
   "id": "b0ce4575-2068-4a03-8ecb-0ce1d5ba7798",
   "metadata": {},
   "outputs": [],
   "source": [
    "def integerToIndices(integer, numQbits = 15):\n",
    "    indicesOut = [0 for _ in range(numQbits)]\n",
    "    binaryRep = bin(int(integer))[2:]\n",
    "    indicesOut[:len(binaryRep)] = [int(item) for item in binaryRep]\n",
    "    return indicesOut\n",
    "\n",
    "def countsToTensorForm(countsDict, numQbits = 15):\n",
    "    tensorOut = np.zeros((2,)*numQbits)\n",
    "    for key,value in countsDict.items():\n",
    "        indices = integerToIndices(key, numQbits)\n",
    "        tensorOut[tuple(indices)] = value\n",
    "    return tensorOut\n",
    "def qiskitcountsToTensorForm(countsDict, numQbits = 15):\n",
    "    tensorOut = np.zeros((2,)*numQbits)\n",
    "    for key,value in countsDict.items():\n",
    "        indices = [int(item) for item in list(key)]\n",
    "        tensorOut[tuple(indices)] = value\n",
    "    return tensorOut\n",
    "\n",
    "def contractEverythingButt(tensorIn,relAxes):\n",
    "    return tensorIn.sum(axis=tuple([item for item in range(len(tensorIn.shape)) if item not in relAxes]))"
   ]
  },
  {
   "cell_type": "code",
   "execution_count": 180,
   "id": "3456549a-d56c-43f2-8491-93571bd3610f",
   "metadata": {},
   "outputs": [],
   "source": [
    "n = 12\n",
    "edges = [[0,1],[1,2],[2,3],[3,4],[4,5],[5,6],[6,7],[7,8],[8,9],[9,10],[10,11],[11,0],[0,2],[0,3]]\n",
    "circ = qiskit.QuantumCircuit(n)\n",
    "for i in range(n):\n",
    "    circ.h(i)\n",
    "for edge in edges:\n",
    "    circ.cz(edge[0],edge[1])\n",
    "circ.h(0)\n",
    "circ.measure_all()\n",
    "circ = qiskit.transpile(circ,simulator)\n",
    "result = simulator.run(circ,shots=numShots).result()\n",
    "counts = result.get_counts()"
   ]
  },
  {
   "cell_type": "code",
   "execution_count": 181,
   "id": "d82b796a-6608-4439-a8c6-af05af34f21c",
   "metadata": {},
   "outputs": [],
   "source": [
    "tensorCounts = qiskitcountsToTensorForm(counts, numQbits = n)"
   ]
  },
  {
   "cell_type": "code",
   "execution_count": 182,
   "id": "e26da6bb-500a-4063-b1fe-407f6df1fda3",
   "metadata": {},
   "outputs": [
    {
     "name": "stdout",
     "output_type": "stream",
     "text": [
      "[2054. 2042.]\n",
      "[2050. 2046.]\n",
      "[2076. 2020.]\n",
      "[2078. 2018.]\n",
      "[2073. 2023.]\n",
      "[2032. 2064.]\n",
      "[2076. 2020.]\n",
      "[2052. 2044.]\n",
      "[2072. 2024.]\n",
      "[2054. 2042.]\n",
      "[2099. 1997.]\n",
      "[1997. 2099.]\n"
     ]
    }
   ],
   "source": [
    "for i in range(12):\n",
    "    print(contractEverythingButt(tensorCounts,[i]))"
   ]
  },
  {
   "cell_type": "code",
   "execution_count": 183,
   "id": "436de833-d869-408a-8c1f-a4a0b72bccee",
   "metadata": {},
   "outputs": [
    {
     "data": {
      "text/plain": [
       "[1, 0, 0, 0, 1, 1, 0, 0, 0, 0, 0, 0, 0, 0, 0]"
      ]
     },
     "execution_count": 183,
     "metadata": {},
     "output_type": "execute_result"
    }
   ],
   "source": [
    "integerToIndices('35', numQbits = 15)"
   ]
  },
  {
   "cell_type": "code",
   "execution_count": 184,
   "id": "8d8de053-2512-48b4-a3a0-ace1f5bc7db6",
   "metadata": {},
   "outputs": [
    {
     "data": {
      "text/plain": [
       "4096.0"
      ]
     },
     "execution_count": 184,
     "metadata": {},
     "output_type": "execute_result"
    }
   ],
   "source": [
    "np.sum(tensorCounts)"
   ]
  },
  {
   "cell_type": "code",
   "execution_count": 185,
   "id": "0feab408-2cea-42b6-bf36-8b273f35fa7b",
   "metadata": {},
   "outputs": [
    {
     "name": "stdout",
     "output_type": "stream",
     "text": [
      "{'001': 1004, '100': 1054, '101': 1005, '000': 1033}\n"
     ]
    }
   ],
   "source": [
    "n = 3\n",
    "circ = qiskit.QuantumCircuit(n)\n",
    "circ.h(0)\n",
    "\n",
    "circ.h(1)\n",
    "circ.h(2)\n",
    "### end them, begin us\n",
    "circ.h(1)\n",
    "# circ.h(2)\n",
    "circ.measure_all()\n",
    "circ = qiskit.transpile(circ,simulator)\n",
    "result = simulator.run(circ,shots=numShots).result()\n",
    "counts = result.get_counts()\n",
    "print(counts)"
   ]
  },
  {
   "cell_type": "code",
   "execution_count": 120,
   "id": "158a255a-c0bd-42b0-9714-92d4945f2758",
   "metadata": {},
   "outputs": [
    {
     "data": {
      "text/plain": [
       "{'011': 1041, '000': 1012, '110': 1030, '101': 1013}"
      ]
     },
     "execution_count": 120,
     "metadata": {},
     "output_type": "execute_result"
    }
   ],
   "source": [
    "counts"
   ]
  },
  {
   "cell_type": "code",
   "execution_count": null,
   "id": "7a94172f-d7d1-4ddf-a014-900b4d4b2052",
   "metadata": {},
   "outputs": [],
   "source": []
  }
 ],
 "metadata": {
  "kernelspec": {
   "display_name": "Python 3 (ipykernel)",
   "language": "python",
   "name": "python3"
  },
  "language_info": {
   "codemirror_mode": {
    "name": "ipython",
    "version": 3
   },
   "file_extension": ".py",
   "mimetype": "text/x-python",
   "name": "python",
   "nbconvert_exporter": "python",
   "pygments_lexer": "ipython3",
   "version": "3.9.12"
  }
 },
 "nbformat": 4,
 "nbformat_minor": 5
}
