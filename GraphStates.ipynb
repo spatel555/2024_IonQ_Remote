{
 "cells": [
  {
   "cell_type": "code",
   "execution_count": 48,
   "id": "84002f9c",
   "metadata": {},
   "outputs": [],
   "source": [
    "import numpy as np\n",
    "import qiskit\n",
    "from qiskit_aer import AerSimulator\n",
    "simulator = AerSimulator()"
   ]
  },
  {
   "cell_type": "code",
   "execution_count": 49,
   "id": "ab8d8958-97d3-470c-a905-4a5428d613b4",
   "metadata": {},
   "outputs": [
    {
     "data": {
      "image/png": "[encoded data removed]",
      "text/plain": [
       "<Figure size 789.163x702.333 with 1 Axes>"
      ]
     },
     "execution_count": 49,
     "metadata": {},
     "output_type": "execute_result"
    }
   ],
   "source": [
    "n = 8\n",
    "edges = [[0,1],[0,2],[1,2],[0,3],[3,4],[4,5],[3,5],[6,7]]\n",
    "circ = qiskit.QuantumCircuit(n)\n",
    "for i in range(n):\n",
    "    circ.h(i)\n",
    "for edge in edges:\n",
    "    circ.cz(edge[0],edge[1])\n",
    "circ.draw(\"mpl\",style=\"iqp\")"
   ]
  },
  {
   "cell_type": "code",
   "execution_count": 50,
   "id": "d27c7906-c241-4dbe-b332-cec941868bf5",
   "metadata": {},
   "outputs": [
    {
     "name": "stdout",
     "output_type": "stream",
     "text": [
      "output states with nonzero probability is at least:  128\n",
      "output states with nonzero probability is at least:  128\n",
      "output states with nonzero probability is at least:  128\n",
      "output states with nonzero probability is at least:  128\n",
      "output states with nonzero probability is at least:  128\n",
      "output states with nonzero probability is at least:  128\n",
      "output states with nonzero probability is at least:  128\n",
      "output states with nonzero probability is at least:  128\n"
     ]
    }
   ],
   "source": [
    "# THIS TELLS US THAT THERE IS A TEST FOR GRAPH-STATE:\n",
    "#  if applying a hadamard to a qbit, get 2^n / 2 states\n",
    "\n",
    "numShots = 1024*4\n",
    "\n",
    "for i in range(n):\n",
    "    circ = qiskit.QuantumCircuit(n)\n",
    "    for i in range(n):\n",
    "        circ.h(i)\n",
    "    for edge in edges:\n",
    "        circ.cz(edge[0],edge[1])\n",
    "    circ.h(i)\n",
    "    circ.measure_all()\n",
    "    circ = qiskit.transpile(circ,simulator)\n",
    "    result = simulator.run(circ,shots=numShots).result()\n",
    "    counts = result.get_counts(0)\n",
    "    print(\"output states with nonzero probability is at least: \", len(counts))\n",
    "# qiskit.visualization.plot_histogram(counts_ideal)"
   ]
  },
  {
   "cell_type": "code",
   "execution_count": 56,
   "id": "f026b2a9-6d5b-4468-9f6b-151632be3b86",
   "metadata": {},
   "outputs": [
    {
     "name": "stdout",
     "output_type": "stream",
     "text": [
      "256\n",
      "256\n",
      "256\n",
      "256\n",
      "256\n",
      "256\n",
      "256\n",
      "256\n",
      "[256] [8]\n"
     ]
    }
   ],
   "source": [
    "# TESTING if we can get the existence of a single edge\n",
    "#  if edge, hadamard the two nodes gives 2^n states\n",
    "testEdges = edges\n",
    "supportSizes = []\n",
    "for testEdge in testEdges:\n",
    "    circ = qiskit.QuantumCircuit(n)\n",
    "    for i in range(n):\n",
    "        circ.h(i)\n",
    "    for edge in edges:\n",
    "        circ.cz(edge[0],edge[1])\n",
    "    circ.h(testEdge[0])\n",
    "    circ.h(testEdge[1])\n",
    "    circ.measure_all()\n",
    "    circ = qiskit.transpile(circ,simulator)\n",
    "    result = simulator.run(circ,shots=numShots).result()\n",
    "    counts = result.get_counts()\n",
    "    supportSizes.append(len(counts))\n",
    "    print(len(counts))\n",
    "unique, counts = np.unique(supportSizes, return_counts=True)\n",
    "print(unique, counts)"
   ]
  },
  {
   "cell_type": "code",
   "execution_count": 57,
   "id": "733bb5e3-1f95-469a-8b18-7aa991e9ee0c",
   "metadata": {},
   "outputs": [
    {
     "name": "stdout",
     "output_type": "stream",
     "text": [
      "256\n",
      "256\n",
      "256\n",
      "256\n",
      "64\n",
      "64\n",
      "64\n",
      "64\n",
      "64\n",
      "256\n",
      "64\n",
      "64\n",
      "64\n",
      "256\n",
      "256\n",
      "64\n",
      "64\n",
      "64\n",
      "64\n",
      "64\n",
      "64\n",
      "64\n",
      "64\n",
      "64\n",
      "64\n",
      "64\n",
      "64\n",
      "256\n"
     ]
    },
    {
     "data": {
      "text/plain": [
       "array([20,  0,  0,  0,  0,  0,  0,  0,  0,  8])"
      ]
     },
     "execution_count": 57,
     "metadata": {},
     "output_type": "execute_result"
    }
   ],
   "source": [
    "#  if not an edge, hadamard the two nodes gives 2^n / 4 states\n",
    "allDyads = [[j,i] for i in range(n) for j in range(i)]\n",
    "supportSizes = []\n",
    "for testEdge in allDyads:\n",
    "    circ = qiskit.QuantumCircuit(n)\n",
    "    for i in range(n):\n",
    "        circ.h(i)\n",
    "    for edge in edges:\n",
    "        circ.cz(edge[0],edge[1])\n",
    "    circ.h(testEdge[0])\n",
    "    circ.h(testEdge[1])\n",
    "    circ.measure_all()\n",
    "    circ = qiskit.transpile(circ,simulator)\n",
    "    result = simulator.run(circ,shots=numShots).result()\n",
    "    counts = result.get_counts()\n",
    "    supportSizes.append(len(counts))\n",
    "    print(len(counts))\n",
    "np.histogram(supportSizes)[0]"
   ]
  },
  {
   "cell_type": "code",
   "execution_count": null,
   "id": "b0ce4575-2068-4a03-8ecb-0ce1d5ba7798",
   "metadata": {},
   "outputs": [],
   "source": []
  }
 ],
 "metadata": {
  "kernelspec": {
   "display_name": "Python 3 (ipykernel)",
   "language": "python",
   "name": "python3"
  },
  "language_info": {
   "codemirror_mode": {
    "name": "ipython",
    "version": 3
   },
   "file_extension": ".py",
   "mimetype": "text/x-python",
   "name": "python",
   "nbconvert_exporter": "python",
   "pygments_lexer": "ipython3",
   "version": "3.9.12"
  }
 },
 "nbformat": 4,
 "nbformat_minor": 5
}
